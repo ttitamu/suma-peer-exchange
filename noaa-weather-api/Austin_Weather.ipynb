{
 "cells": [
  {
   "cell_type": "code",
   "execution_count": 138,
   "id": "88e75dc4-7d89-4e3b-a77e-4e26c2578cc9",
   "metadata": {},
   "outputs": [],
   "source": [
    "# Author: Gargi Singh, Assistant Research Scientist, TTI\n",
    "# Date: 2022-03-31\n",
    "# Description: This script performs geocoding using the Google Maps API\n",
    "\n",
    "import requests\n",
    "import pandas as pd\n",
    "import json\n",
    "import numpy as np\n",
    "from datetime import datetime\n",
    "import seaborn as sns\n",
    "from matplotlib import rcParams\n",
    "import matplotlib.pyplot as plt"
   ]
  },
  {
   "cell_type": "code",
   "execution_count": 139,
   "id": "57612ea5-8b88-4f13-9e9a-5910a6394ae8",
   "metadata": {},
   "outputs": [],
   "source": [
    "pd.set_option('display.max_columns', 150) #Don't use 'None' here, or the notebook slows down"
   ]
  },
  {
   "cell_type": "code",
   "execution_count": 164,
   "id": "fc6cd180-1adf-45c9-912b-b56b82cf85c0",
   "metadata": {},
   "outputs": [],
   "source": [
    "## Add the access token from NOAA\n",
    "Token = 'ADD-HERE'\n",
    "\n",
    "## Austin Airport weather station\n",
    "station_id = 'GHCND:USW00013904' "
   ]
  },
  {
   "cell_type": "code",
   "execution_count": 172,
   "id": "7f0edcb6-8163-496e-8ecb-f831547f2010",
   "metadata": {},
   "outputs": [
    {
     "name": "stdout",
     "output_type": "stream",
     "text": [
      "working on year 2015\n",
      "working on year 2016\n",
      "working on year 2017\n",
      "working on year 2018\n",
      "working on year 2019\n",
      "working on year 2020\n",
      "working on year 2021\n"
     ]
    }
   ],
   "source": [
    "## Initialize lists to store data\n",
    "dates_temp = []\n",
    "dates_prcp = []\n",
    "temps = []\n",
    "prcp = []\n",
    "\n",
    "for year in range(2015, 2022):\n",
    "    year = str(year)\n",
    "    print('working on year '+year)\n",
    "    \n",
    "    #make the api call\n",
    "    r = requests.get('https://www.ncdc.noaa.gov/cdo-web/api/v2/data?datasetid=GHCND&datatypeid=TAVG&limit=1000&stationid='+station_id+'&startdate='+year+'-01-01&enddate='+year+'-12-31', headers={'token':Token})\n",
    "    #load the api response as a json\n",
    "    d = json.loads(r.text)\n",
    "    #get all items in the response which are average temperature readings\n",
    "    max_temps = [item for item in d['results'] if item['datatype']=='TAVG']\n",
    "    #get the date field from all average temperature readings\n",
    "    dates_temp += [item['date'] for item in max_temps]\n",
    "    #get the actual average temperature from all average temperature readings\n",
    "    temps += [item['value'] for item in max_temps]"
   ]
  },
  {
   "cell_type": "code",
   "execution_count": 173,
   "id": "6dd44649-770b-40ca-bdfd-5d26990b0510",
   "metadata": {},
   "outputs": [],
   "source": [
    "## Initialize dataframe\n",
    "df_temp = pd.DataFrame()\n",
    "\n",
    "#populate date and average temperature fields (cast string date to datetime and convert temperature from tenths of Celsius to Fahrenheit)\n",
    "df_temp['date'] = [datetime.strptime(d, \"%Y-%m-%dT%H:%M:%S\") for d in dates_temp]\n",
    "df_temp['MaxTemp'] = [float(v)/10.0*1.8 + 32 for v in temps]"
   ]
  },
  {
   "cell_type": "code",
   "execution_count": 174,
   "id": "f7ee6c25-2b17-4d95-9526-cbd202b609d7",
   "metadata": {},
   "outputs": [],
   "source": [
    "df_temp['month'] = df_temp['date'].dt.month\n",
    "df_temp['day'] = df_temp['date'].dt.day\n",
    "\n",
    "df_temp = df_temp[df_temp.month==4]"
   ]
  },
  {
   "cell_type": "code",
   "execution_count": 175,
   "id": "2877ba2c-7b2c-4ab1-bc13-448f4c7c4f3c",
   "metadata": {},
   "outputs": [
    {
     "data": {
      "text/plain": [
       "<AxesSubplot:xlabel='day', ylabel='MaxTemp'>"
      ]
     },
     "execution_count": 175,
     "metadata": {},
     "output_type": "execute_result"
    },
    {
     "data": {
      "image/png": "[encoded data removed]",
      "text/plain": [
       "<Figure size 1080x576 with 1 Axes>"
      ]
     },
     "metadata": {
      "needs_background": "light"
     },
     "output_type": "display_data"
    },
    {
     "data": {
      "text/plain": [
       "<Figure size 1080x576 with 0 Axes>"
      ]
     },
     "metadata": {},
     "output_type": "display_data"
    }
   ],
   "source": [
    "ax = sns.boxplot(x=\"day\", y=\"MaxTemp\", data=df_temp)\n",
    "\n",
    "plt.figure(figsize = (15,8))\n",
    "\n",
    "ax"
   ]
  }
 ],
 "metadata": {
  "kernelspec": {
   "display_name": "Python 3",
   "language": "python",
   "name": "python3"
  },
  "language_info": {
   "codemirror_mode": {
    "name": "ipython",
    "version": 3
   },
   "file_extension": ".py",
   "mimetype": "text/x-python",
   "name": "python",
   "nbconvert_exporter": "python",
   "pygments_lexer": "ipython3",
   "version": "3.7.3"
  }
 },
 "nbformat": 4,
 "nbformat_minor": 5
}
