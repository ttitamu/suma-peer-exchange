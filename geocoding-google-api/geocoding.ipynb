{
 "cells": [
  {
   "cell_type": "code",
   "execution_count": null,
   "metadata": {},
   "outputs": [],
   "source": [
    "# Author: Gargi Singh, Assistant Research Scientist, TTI\n",
    "# Date: 2021-09-01\n",
    "# Description: This script performs geocoding using the Google Maps API\n",
    "\n",
    "import numpy as np\n",
    "import pandas as pd\n",
    "from geopy.geocoders import GoogleV3\n",
    "from geopy.distance import geodesic\n",
    "import getpass"
   ]
  },
  {
   "cell_type": "code",
   "execution_count": null,
   "metadata": {},
   "outputs": [],
   "source": [
    "## Enter Google API Key\n",
    "GoogleAPIKey = getpass.getpass()\n",
    "geolocator = GoogleV3(GoogleAPIKey)"
   ]
  },
  {
   "cell_type": "code",
   "execution_count": null,
   "metadata": {},
   "outputs": [],
   "source": [
    "## Load Data to be Geocoded\n",
    "geocode_address = pd.read_csv('dummy-data.csv')"
   ]
  },
  {
   "cell_type": "code",
   "execution_count": null,
   "metadata": {},
   "outputs": [],
   "source": [
    "## Prepare data for geocoding\n",
    "geocode_address.columns = ['Name', 'Address', 'City', 'State', 'Zip', 'Longitude', 'Latitude']\n",
    "geocode_address['LocationNames'] = geocode_address.Address + \", \" + geocode_address.City +  \", \" + geocode_address.State + \" \" + (geocode_address.Zip).astype(str) + \", USA\"\n",
    "geocode_address_unique =  pd.DataFrame(geocode_address['LocationNames'].drop_duplicates())\n",
    "geocode_address_unique.columns = ['LocationNames']"
   ]
  },
  {
   "cell_type": "code",
   "execution_count": null,
   "metadata": {},
   "outputs": [],
   "source": [
    "## Geocode\n",
    "geocode_address_unique['lat'] = geocode_address_unique['LocationNames'].apply(lambda x: geolocator.geocode(x).latitude)\n",
    "geocode_address_unique['lon'] = geocode_address_unique['LocationNames'].apply(lambda x: geolocator.geocode(x).longitude)"
   ]
  },
  {
   "cell_type": "code",
   "execution_count": null,
   "metadata": {},
   "outputs": [],
   "source": [
    "## Merge geocoded data with original data\n",
    "geocode_address = pd.merge(geocode_address, geocode_address_unique, on = 'LocationNames', how = 'left')\n",
    "geocode_address['VendorCo'] = list(zip(geocode_address.Latitude, geocode_address.Longitude))\n",
    "geocode_address['GoogleCo'] = list(zip(geocode_address.lat, geocode_address.lon))"
   ]
  },
  {
   "cell_type": "code",
   "execution_count": null,
   "metadata": {},
   "outputs": [],
   "source": [
    "## Calculate the distance between Google and Vendor Coordinates\n",
    "geocode_address['GeodesicDist'] = geocode_address[['VendorCo', 'GoogleCo']].apply(lambda x: geodesic(x.VendorCo, x.GoogleCo).feet, axis=1)"
   ]
  },
  {
   "cell_type": "code",
   "execution_count": null,
   "metadata": {},
   "outputs": [],
   "source": [
    "## Export results\n",
    "geocode_address.to_csv('results.csv')"
   ]
  }
 ],
 "metadata": {
  "kernelspec": {
   "display_name": "Python 3",
   "language": "python",
   "name": "python3"
  },
  "language_info": {
   "codemirror_mode": {
    "name": "ipython",
    "version": 3
   },
   "file_extension": ".py",
   "mimetype": "text/x-python",
   "name": "python",
   "nbconvert_exporter": "python",
   "pygments_lexer": "ipython3",
   "version": "3.9.1"
  }
 },
 "nbformat": 4,
 "nbformat_minor": 4
}
